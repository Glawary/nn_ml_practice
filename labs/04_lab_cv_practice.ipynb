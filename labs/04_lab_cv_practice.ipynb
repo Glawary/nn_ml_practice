{
  "cells": [
    {
      "cell_type": "markdown",
      "id": "5dfc8bae",
      "metadata": {
        "id": "5dfc8bae"
      },
      "source": [
        "# Лабораторная работа №4\n",
        "\n",
        "ФИО:  Пуцеловский Евгений Андреевич   \n",
        "Группа: БИВТ-20-1 \n",
        "\n",
        "Отправлять можно следующими способами (**обязательно указать свое ФИО и группу в каком-либо виде**):\n",
        "1. Создать **приватный** репозиторий на github, добавить меня по нику (l3lush) в Collaborators (Settings -> Collaborators -> Add people)\n",
        "2. Отправить заполненный ноутбук мне на почту avmysh@gmail.com, либо m1603956@edu.misis.ru\n",
        "3. Отправить заполненный ноутбук мне в тг @l3lush. \n",
        "\n",
        "**Deadline**:\n",
        "- hard -- **04.06.2023 23:59** (дедлайн теперь один)\n",
        "\n",
        "\n",
        "**Что необходимо сделать** (можете вдохновляться ноутбуками для семинара, они должны помочь):\n",
        "1. Загрузить датасет (вариант смотреть [здесь](https://docs.google.com/spreadsheets/d/1pFk1qZJtMrV8GWUmdSjV5Kz6JnFdBQDShErFZ337FDc/edit?usp=sharing))\n",
        "2. Описать кратенько словами датасет, описать поставку задачи, что от чего отличаем, привести примеры картинок (картинки можно визуализировать после шага 3, когда у вас будет красивый датасет).\n",
        "3. Оформить датасет в виде объекта класса Dataset из PyTorch (обязательно надо сделать препроцессинг данных: нормализовать данные, добавить аугментации к данным и пр.).\n",
        "4. Оформить датасет из шага 3 в Dataloader.\n",
        "5. Реализовать архитектуру собственной нейросети и натренировать ее на датасете (можно не обучать 1000 эпох, достаточно 10 эпох, но чтобы метрики начали улучшаться).\n",
        "6. Обучить нейросеть, используя Transfer Learning. Модель можно выбрать на свой вкус (список всех моделей, доступных в torchvision есть [тут](https://pytorch.org/vision/stable/models.html)).\n",
        "7. Посчитать метрики качества финальной модели, сделать выводы.\n",
        "\n",
        "**Замечание**  \n",
        "Если понимаете, что данные слишком много весят, или с датасетом что-то не так, можете брать любой другой.  \n",
        "\n",
        "P.S. Чтобы не ждать века, тренируйте модели на Colab с использованием GPU (Runtime -> Change runtime type -> GPU)  \n",
        "P.S.S. Сохраняйте вывод ячеек и пушьте вместе с ним, в противном случае я не смогу нормально проверить все работы, если буду запускать все ноутбуки и ждать обучение моделей"
      ]
    },
    {
      "cell_type": "markdown",
      "source": [
        "# 1 - 3. Загрузка и оформление датасета в виде объекта класса Dataset из PyTorch, визуализация данных  "
      ],
      "metadata": {
        "id": "2ktaD9uFQuQN"
      },
      "id": "2ktaD9uFQuQN"
    },
    {
      "cell_type": "code",
      "source": [
        "import numpy as np\n",
        "import pandas as pd\n",
        "import torchvision\n",
        "import torch\n",
        "from torch.utils.data import Dataset\n",
        "from torch.utils.data import DataLoader\n",
        "from torchvision import datasets, models, transforms\n",
        "import torch.nn as nn\n",
        "import torch.optim as optim\n",
        "from torch.optim import lr_scheduler\n",
        "import matplotlib.pyplot as plt\n",
        "import time\n",
        "import os\n",
        "import copy"
      ],
      "metadata": {
        "id": "lEcOarkaRxWk"
      },
      "id": "lEcOarkaRxWk",
      "execution_count": 44,
      "outputs": []
    },
    {
      "cell_type": "code",
      "execution_count": 45,
      "id": "ebeafcab",
      "metadata": {
        "colab": {
          "base_uri": "https://localhost:8080/"
        },
        "id": "ebeafcab",
        "outputId": "8c2a8150-d28a-4416-aaa4-cb5bd124034e"
      },
      "outputs": [
        {
          "output_type": "stream",
          "name": "stdout",
          "text": [
            "Looking in indexes: https://pypi.org/simple, https://us-python.pkg.dev/colab-wheels/public/simple/\n",
            "Requirement already satisfied: datasets in /usr/local/lib/python3.10/dist-packages (2.12.0)\n",
            "Requirement already satisfied: numpy>=1.17 in /usr/local/lib/python3.10/dist-packages (from datasets) (1.22.4)\n",
            "Requirement already satisfied: pyarrow>=8.0.0 in /usr/local/lib/python3.10/dist-packages (from datasets) (9.0.0)\n",
            "Requirement already satisfied: dill<0.3.7,>=0.3.0 in /usr/local/lib/python3.10/dist-packages (from datasets) (0.3.6)\n",
            "Requirement already satisfied: pandas in /usr/local/lib/python3.10/dist-packages (from datasets) (1.5.3)\n",
            "Requirement already satisfied: requests>=2.19.0 in /usr/local/lib/python3.10/dist-packages (from datasets) (2.27.1)\n",
            "Requirement already satisfied: tqdm>=4.62.1 in /usr/local/lib/python3.10/dist-packages (from datasets) (4.65.0)\n",
            "Requirement already satisfied: xxhash in /usr/local/lib/python3.10/dist-packages (from datasets) (3.2.0)\n",
            "Requirement already satisfied: multiprocess in /usr/local/lib/python3.10/dist-packages (from datasets) (0.70.14)\n",
            "Requirement already satisfied: fsspec[http]>=2021.11.1 in /usr/local/lib/python3.10/dist-packages (from datasets) (2023.4.0)\n",
            "Requirement already satisfied: aiohttp in /usr/local/lib/python3.10/dist-packages (from datasets) (3.8.4)\n",
            "Requirement already satisfied: huggingface-hub<1.0.0,>=0.11.0 in /usr/local/lib/python3.10/dist-packages (from datasets) (0.14.1)\n",
            "Requirement already satisfied: packaging in /usr/local/lib/python3.10/dist-packages (from datasets) (23.1)\n",
            "Requirement already satisfied: responses<0.19 in /usr/local/lib/python3.10/dist-packages (from datasets) (0.18.0)\n",
            "Requirement already satisfied: pyyaml>=5.1 in /usr/local/lib/python3.10/dist-packages (from datasets) (6.0)\n",
            "Requirement already satisfied: attrs>=17.3.0 in /usr/local/lib/python3.10/dist-packages (from aiohttp->datasets) (23.1.0)\n",
            "Requirement already satisfied: charset-normalizer<4.0,>=2.0 in /usr/local/lib/python3.10/dist-packages (from aiohttp->datasets) (2.0.12)\n",
            "Requirement already satisfied: multidict<7.0,>=4.5 in /usr/local/lib/python3.10/dist-packages (from aiohttp->datasets) (6.0.4)\n",
            "Requirement already satisfied: async-timeout<5.0,>=4.0.0a3 in /usr/local/lib/python3.10/dist-packages (from aiohttp->datasets) (4.0.2)\n",
            "Requirement already satisfied: yarl<2.0,>=1.0 in /usr/local/lib/python3.10/dist-packages (from aiohttp->datasets) (1.9.2)\n",
            "Requirement already satisfied: frozenlist>=1.1.1 in /usr/local/lib/python3.10/dist-packages (from aiohttp->datasets) (1.3.3)\n",
            "Requirement already satisfied: aiosignal>=1.1.2 in /usr/local/lib/python3.10/dist-packages (from aiohttp->datasets) (1.3.1)\n",
            "Requirement already satisfied: filelock in /usr/local/lib/python3.10/dist-packages (from huggingface-hub<1.0.0,>=0.11.0->datasets) (3.12.0)\n",
            "Requirement already satisfied: typing-extensions>=3.7.4.3 in /usr/local/lib/python3.10/dist-packages (from huggingface-hub<1.0.0,>=0.11.0->datasets) (4.5.0)\n",
            "Requirement already satisfied: urllib3<1.27,>=1.21.1 in /usr/local/lib/python3.10/dist-packages (from requests>=2.19.0->datasets) (1.26.15)\n",
            "Requirement already satisfied: certifi>=2017.4.17 in /usr/local/lib/python3.10/dist-packages (from requests>=2.19.0->datasets) (2022.12.7)\n",
            "Requirement already satisfied: idna<4,>=2.5 in /usr/local/lib/python3.10/dist-packages (from requests>=2.19.0->datasets) (3.4)\n",
            "Requirement already satisfied: python-dateutil>=2.8.1 in /usr/local/lib/python3.10/dist-packages (from pandas->datasets) (2.8.2)\n",
            "Requirement already satisfied: pytz>=2020.1 in /usr/local/lib/python3.10/dist-packages (from pandas->datasets) (2022.7.1)\n",
            "Requirement already satisfied: six>=1.5 in /usr/local/lib/python3.10/dist-packages (from python-dateutil>=2.8.1->pandas->datasets) (1.16.0)\n"
          ]
        }
      ],
      "source": [
        "# in Colab\n",
        "!pip install datasets  \n",
        "# локально придется установить эту библиотеку через консоль"
      ]
    },
    {
      "cell_type": "code",
      "source": [
        "to_transform = {\n",
        "    'train':\n",
        "    transforms.Compose([\n",
        "        transforms.RandomHorizontalFlip(0.5), \n",
        "        transforms.ToTensor(),\n",
        "        transforms.Normalize([0.4914, 0.4822, 0.4465], [0.2023, 0.1994, 0.2010]),\n",
        "    ]),\n",
        "    'test':\n",
        "    transforms.Compose([\n",
        "        transforms.ToTensor(),\n",
        "        transforms.Normalize([0.4914, 0.4822, 0.4465], [0.2023, 0.1994, 0.2010])\n",
        "    ]),\n",
        "}"
      ],
      "metadata": {
        "id": "KFMI8m84R_ch"
      },
      "id": "KFMI8m84R_ch",
      "execution_count": 46,
      "outputs": []
    },
    {
      "cell_type": "code",
      "source": [
        "train_dataset_unsplitted = torchvision.datasets.CIFAR100(root='data', train=True, download=True, transform=to_transform['train'], sh)\n",
        "test_dataset = torchvision.datasets.CIFAR100(root='data', download=True, transform=to_transform['test'])\n",
        "\n",
        "train_dataset, val_dataset = torch.utils.data.random_split(train_dataset_unsplitted, [40000, 10000])\n",
        "dataset = {\n",
        "    'train': train_dataset, \n",
        "    'val': val_dataset,\n",
        "    'test': test_dataset\n",
        "}"
      ],
      "metadata": {
        "id": "FkZjGE6XSBT_",
        "outputId": "33df478b-d27e-4eaa-ce1a-7c9013840322",
        "colab": {
          "base_uri": "https://localhost:8080/"
        }
      },
      "id": "FkZjGE6XSBT_",
      "execution_count": 47,
      "outputs": [
        {
          "output_type": "stream",
          "name": "stdout",
          "text": [
            "Files already downloaded and verified\n",
            "Files already downloaded and verified\n"
          ]
        }
      ]
    },
    {
      "cell_type": "markdown",
      "source": [
        "###### Датасет CIFAR-100 - это коллекция изображений, которые обычно используются для обучения алгоритмов машинного обучения и компьютерного зрения. Данный набор состоит из 60000 больших цветных изображений 32 на 32 в 100 классах, что означает 600 изображений в каждом классе. \n",
        "###### 1. водные млекопитающие:\tбобр, дельфин, выдра, тюлень, кит\n",
        "###### 2.\tцветы:\tорхидеи, маки, розы, подсолнухи, тюльпаны\n",
        "###### 3.\tрыбы:\tаквариумные рыбки, камбала, скат, акула, форель\n",
        "###### 4.\tпищевые контейнеры:\tбутылки, миски, банки, чашки, тарелки\n",
        "###### 5.\tбытовые электроприборы:\tчасы, компьютерная клавиатура, лампа, телефон, телевизор\n",
        "###### 6.\tфрукты и овощи:\tяблоки, грибы, апельсины, груши, сладкий перец\n",
        "###### 7.\tмебель для дома:\tкровать, стул, диван, стол, шкаф\n",
        "###### 8.\tкрупные хищники:\tмедведь, леопард, лев, тигр, волк\n",
        "###### 9.\tнасекомые:\tпчела, жук, бабочка, гусеница, таракан\n",
        "###### 10.\tбольшие уличные сооружения:\tмост, замок, дом, дорога, небоскреб\n",
        "###### 11.\tбольшие природные объекты:\tоблако, лес, горы, равнина, море\n",
        "###### 12.\tмлекопитающие среднего размера:\tлиса, дикобраз, опоссум, енот, скунс\n",
        "###### 13.\tкрупные всеядные и травоядные:\tверблюд, крупный рогатый скот, шимпанзе, слон, кенгуру\n",
        "###### 14.\tбеспозвоночные, не являющиеся насекомыми:\tкраб, омар, улитка, паук, червь\n",
        "###### 15.\tрептилии:\tкрокодил, динозавр, ящерица, змея, черепаха\n",
        "###### 16.\tлюди:\tребенок, мальчик, девочка, мужчина, женщина\n",
        "###### 17.\tдеревья:\tклен, дуб, пальма, сосна, ива\n",
        "###### 18.\tмелкие млекопитающие:\tхомяк, мышь, кролик, землеройка, белка\n",
        "###### 19.\tтранспортные средства 1:\tвелосипед, автобус, мотоцикл, пикап, поезд\n",
        "###### 20.\tтранспортные средства 2:\tгазонокосилка, ракета, трамвай, танк, трактор\n",
        "###### Тем самым, ставится задача классификации изображений, то есть отнесения того или иного изображения к одному из вышепредставленных классов.\n",
        "\n"
      ],
      "metadata": {
        "id": "11IGr87LSJZS"
      },
      "id": "11IGr87LSJZS"
    },
    {
      "cell_type": "code",
      "source": [
        "len(train_dataset_unsplitted.classes)"
      ],
      "metadata": {
        "id": "F8VixL2-SF5e",
        "outputId": "8b787263-7918-43cb-b486-c908baebe54f",
        "colab": {
          "base_uri": "https://localhost:8080/"
        }
      },
      "id": "F8VixL2-SF5e",
      "execution_count": 48,
      "outputs": [
        {
          "output_type": "execute_result",
          "data": {
            "text/plain": [
              "100"
            ]
          },
          "metadata": {},
          "execution_count": 48
        }
      ]
    },
    {
      "cell_type": "code",
      "source": [
        "train_dataset_unsplitted.classes"
      ],
      "metadata": {
        "id": "tmertAX4V3BD",
        "outputId": "0354ad63-ccd4-4cea-961f-874d2ce370ad",
        "colab": {
          "base_uri": "https://localhost:8080/"
        }
      },
      "id": "tmertAX4V3BD",
      "execution_count": 49,
      "outputs": [
        {
          "output_type": "execute_result",
          "data": {
            "text/plain": [
              "['apple',\n",
              " 'aquarium_fish',\n",
              " 'baby',\n",
              " 'bear',\n",
              " 'beaver',\n",
              " 'bed',\n",
              " 'bee',\n",
              " 'beetle',\n",
              " 'bicycle',\n",
              " 'bottle',\n",
              " 'bowl',\n",
              " 'boy',\n",
              " 'bridge',\n",
              " 'bus',\n",
              " 'butterfly',\n",
              " 'camel',\n",
              " 'can',\n",
              " 'castle',\n",
              " 'caterpillar',\n",
              " 'cattle',\n",
              " 'chair',\n",
              " 'chimpanzee',\n",
              " 'clock',\n",
              " 'cloud',\n",
              " 'cockroach',\n",
              " 'couch',\n",
              " 'crab',\n",
              " 'crocodile',\n",
              " 'cup',\n",
              " 'dinosaur',\n",
              " 'dolphin',\n",
              " 'elephant',\n",
              " 'flatfish',\n",
              " 'forest',\n",
              " 'fox',\n",
              " 'girl',\n",
              " 'hamster',\n",
              " 'house',\n",
              " 'kangaroo',\n",
              " 'keyboard',\n",
              " 'lamp',\n",
              " 'lawn_mower',\n",
              " 'leopard',\n",
              " 'lion',\n",
              " 'lizard',\n",
              " 'lobster',\n",
              " 'man',\n",
              " 'maple_tree',\n",
              " 'motorcycle',\n",
              " 'mountain',\n",
              " 'mouse',\n",
              " 'mushroom',\n",
              " 'oak_tree',\n",
              " 'orange',\n",
              " 'orchid',\n",
              " 'otter',\n",
              " 'palm_tree',\n",
              " 'pear',\n",
              " 'pickup_truck',\n",
              " 'pine_tree',\n",
              " 'plain',\n",
              " 'plate',\n",
              " 'poppy',\n",
              " 'porcupine',\n",
              " 'possum',\n",
              " 'rabbit',\n",
              " 'raccoon',\n",
              " 'ray',\n",
              " 'road',\n",
              " 'rocket',\n",
              " 'rose',\n",
              " 'sea',\n",
              " 'seal',\n",
              " 'shark',\n",
              " 'shrew',\n",
              " 'skunk',\n",
              " 'skyscraper',\n",
              " 'snail',\n",
              " 'snake',\n",
              " 'spider',\n",
              " 'squirrel',\n",
              " 'streetcar',\n",
              " 'sunflower',\n",
              " 'sweet_pepper',\n",
              " 'table',\n",
              " 'tank',\n",
              " 'telephone',\n",
              " 'television',\n",
              " 'tiger',\n",
              " 'tractor',\n",
              " 'train',\n",
              " 'trout',\n",
              " 'tulip',\n",
              " 'turtle',\n",
              " 'wardrobe',\n",
              " 'whale',\n",
              " 'willow_tree',\n",
              " 'wolf',\n",
              " 'woman',\n",
              " 'worm']"
            ]
          },
          "metadata": {},
          "execution_count": 49
        }
      ]
    },
    {
      "cell_type": "markdown",
      "source": [
        "#### Примеры изображений"
      ],
      "metadata": {
        "id": "Pa3rfpUDWj8R"
      },
      "id": "Pa3rfpUDWj8R"
    },
    {
      "cell_type": "code",
      "source": [
        "figure = plt.figure(figsize=(8, 8))\n",
        "cols, rows = 3, 3\n",
        "for i in range(1, cols * rows + 1):\n",
        "    sample_idx = torch.randint(len(train_dataset_unsplitted), size=(1,)).item()\n",
        "    img, label = train_dataset_unsplitted.data[sample_idx], train_dataset_unsplitted.targets[sample_idx]\n",
        "    figure.add_subplot(rows, cols, i)\n",
        "    plt.title(train_dataset_unsplitted.classes[label])\n",
        "    plt.axis(\"off\")\n",
        "    plt.imshow(img)\n",
        "plt.show()"
      ],
      "metadata": {
        "id": "1XI_G3EbWTrT",
        "outputId": "dfc87de4-0d1a-4775-d080-18feb2a6dc7d",
        "colab": {
          "base_uri": "https://localhost:8080/",
          "height": 675
        }
      },
      "id": "1XI_G3EbWTrT",
      "execution_count": 50,
      "outputs": [
        {
          "output_type": "display_data",
          "data": {
            "text/plain": [
              "<Figure size 800x800 with 9 Axes>"
            ],
            "image/png": "[encoded data removed]"
          },
          "metadata": {}
        }
      ]
    },
    {
      "cell_type": "markdown",
      "source": [
        "# 4. Оформить датасет объекта класса Dataset в Dataloader."
      ],
      "metadata": {
        "id": "rfNIOMPLWvCF"
      },
      "id": "rfNIOMPLWvCF"
    },
    {
      "cell_type": "code",
      "source": [
        "train_dataloader = DataLoader(dataset['train'], batch_size=64, shuffle=True, num_workers=0)\n",
        "val_dataloader = DataLoader(dataset['val'], batch_size=64, shuffle=True, num_workers=0)\n",
        "test_dataloader = DataLoader(dataset['test'], batch_size=64, shuffle=True, num_workers=0)"
      ],
      "metadata": {
        "id": "CtNxUqaAWuXe"
      },
      "id": "CtNxUqaAWuXe",
      "execution_count": 51,
      "outputs": []
    },
    {
      "cell_type": "code",
      "source": [
        "dataloaders = {'train': train_dataloader, 'val': val_dataloader,'test': test_dataloader}"
      ],
      "metadata": {
        "id": "Ql_AAJ_0Wg8F"
      },
      "id": "Ql_AAJ_0Wg8F",
      "execution_count": 52,
      "outputs": []
    },
    {
      "cell_type": "code",
      "source": [
        "train_dataloader"
      ],
      "metadata": {
        "id": "cZTO_mXSXBAI",
        "outputId": "ff4e3a63-5c86-46f2-d3c0-fb14334dc1fa",
        "colab": {
          "base_uri": "https://localhost:8080/"
        }
      },
      "id": "cZTO_mXSXBAI",
      "execution_count": 53,
      "outputs": [
        {
          "output_type": "execute_result",
          "data": {
            "text/plain": [
              "<torch.utils.data.dataloader.DataLoader at 0x7efbe20af3d0>"
            ]
          },
          "metadata": {},
          "execution_count": 53
        }
      ]
    },
    {
      "cell_type": "markdown",
      "source": [
        "# 5. Реализовать архитектуру собственной нейросети и натренировать ее на датасете."
      ],
      "metadata": {
        "id": "WBlopAxnXHwz"
      },
      "id": "WBlopAxnXHwz"
    },
    {
      "cell_type": "code",
      "source": [
        "device = \"cuda\" if torch.cuda.is_available() else \"cpu\"\n",
        "print(f\"Using {device} device\")"
      ],
      "metadata": {
        "id": "VN8HX2PkXBy7",
        "outputId": "d48e9e4e-3507-4831-c236-c263eec4eb80",
        "colab": {
          "base_uri": "https://localhost:8080/"
        }
      },
      "id": "VN8HX2PkXBy7",
      "execution_count": 54,
      "outputs": [
        {
          "output_type": "stream",
          "name": "stdout",
          "text": [
            "Using cuda device\n"
          ]
        }
      ]
    },
    {
      "cell_type": "code",
      "source": [
        "def train_model(model, dataloader, criterion, optimizer, scheduler, num_epochs=25):\n",
        "    since = time.time()\n",
        "\n",
        "    best_model_wts = copy.deepcopy(model.state_dict())\n",
        "    best_acc = 0.0\n",
        "\n",
        "    for epoch in range(num_epochs):\n",
        "        print('Epoch {}/{}'.format(epoch+1, num_epochs))\n",
        "        print('-' * 10)\n",
        "\n",
        "        for phase in ['train', 'val']:\n",
        "            if phase == 'train':\n",
        "                model.train() \n",
        "            else:\n",
        "                model.eval()\n",
        "\n",
        "            running_loss = 0.0\n",
        "            running_corrects = 0\n",
        "\n",
        "            for inputs, labels in dataloader[phase]:\n",
        "                inputs = inputs.to(device)\n",
        "                labels = labels.to(device)\n",
        "\n",
        "                optimizer.zero_grad()\n",
        "\n",
        "                with torch.set_grad_enabled(phase == 'train'):\n",
        "                    outputs = model(inputs)\n",
        "                    _, preds = torch.max(outputs, 1)\n",
        "                    loss = criterion(outputs, labels)\n",
        "\n",
        "                    if phase == 'train':\n",
        "                        loss.backward()\n",
        "                        optimizer.step()\n",
        "\n",
        "                running_loss += loss.item() * inputs.size(0)\n",
        "                running_corrects += torch.sum(preds == labels.data)\n",
        "            if phase == 'train':\n",
        "                scheduler.step()\n",
        "\n",
        "            epoch_loss = running_loss / len(dataset[phase])\n",
        "            epoch_acc = running_corrects.double() / len(dataset[phase])\n",
        "\n",
        "            print('{} Loss: {:.4f} Acc: {:.4f}'.format(\n",
        "                phase, epoch_loss, epoch_acc))\n",
        "\n",
        "            if phase == 'val' and epoch_acc > best_acc:\n",
        "                best_acc = epoch_acc\n",
        "                best_model_wts = copy.deepcopy(model.state_dict())\n",
        "\n",
        "        print()\n",
        "\n",
        "    time_elapsed = time.time() - since\n",
        "    print('Training complete in {:.0f}m {:.0f}s'.format(\n",
        "        time_elapsed // 60, time_elapsed % 60))\n",
        "    print('Best val Acc: {:4f}'.format(best_acc))\n",
        "\n",
        "    model.load_state_dict(best_model_wts)\n",
        "    return model"
      ],
      "metadata": {
        "id": "4_fYsY0BXRyf"
      },
      "id": "4_fYsY0BXRyf",
      "execution_count": 55,
      "outputs": []
    },
    {
      "cell_type": "code",
      "source": [
        "model = nn.Sequential(\n",
        "    nn.Conv2d(3, 16, 2),\n",
        "    nn.ELU(),\n",
        "    nn.MaxPool2d(2),\n",
        "    nn.Conv2d(16, 32, 2),\n",
        "    nn.ELU(),\n",
        "    nn.MaxPool2d(2),\n",
        "    nn.Conv2d(32, 128, 2),\n",
        "\n",
        "    nn.Flatten(),\n",
        "\n",
        "    nn.Linear(4608, 512), \n",
        "    nn.ELU(),\n",
        "    nn.Linear(512, 100)\n",
        ")\n",
        "\n",
        "model = model.to(device)"
      ],
      "metadata": {
        "id": "Ji3gHBOwXCtL"
      },
      "id": "Ji3gHBOwXCtL",
      "execution_count": 56,
      "outputs": []
    },
    {
      "cell_type": "code",
      "source": [
        "criterion = nn.CrossEntropyLoss()\n",
        "optimizer_sgd = optim.SGD(model.parameters(), lr=0.0022, momentum=0.9, weight_decay=0.000001)\n",
        "exp_lr_scheduler = torch.optim.lr_scheduler.StepLR(optimizer_sgd, step_size=5, gamma=0.1)"
      ],
      "metadata": {
        "id": "u3wHEQFyXN1o"
      },
      "id": "u3wHEQFyXN1o",
      "execution_count": 59,
      "outputs": []
    },
    {
      "cell_type": "code",
      "source": [
        "model = train_model(model, dataloaders ,criterion, optimizer_sgd, exp_lr_scheduler, num_epochs=10)"
      ],
      "metadata": {
        "id": "Ky-sygQYXZ2R",
        "outputId": "d9e42599-2395-424e-e474-850286c3b689",
        "colab": {
          "base_uri": "https://localhost:8080/"
        }
      },
      "id": "Ky-sygQYXZ2R",
      "execution_count": 60,
      "outputs": [
        {
          "output_type": "stream",
          "name": "stdout",
          "text": [
            "Epoch 1/10\n",
            "----------\n",
            "train Loss: 3.9423 Acc: 0.1104\n",
            "val Loss: 3.6389 Acc: 0.1606\n",
            "\n",
            "Epoch 2/10\n",
            "----------\n",
            "train Loss: 3.4442 Acc: 0.1916\n",
            "val Loss: 3.3062 Acc: 0.2153\n",
            "\n",
            "Epoch 3/10\n",
            "----------\n",
            "train Loss: 3.1375 Acc: 0.2455\n",
            "val Loss: 3.0682 Acc: 0.2603\n",
            "\n",
            "Epoch 4/10\n",
            "----------\n",
            "train Loss: 2.8940 Acc: 0.2883\n",
            "val Loss: 2.8895 Acc: 0.2971\n",
            "\n",
            "Epoch 5/10\n",
            "----------\n",
            "train Loss: 2.6790 Acc: 0.3320\n",
            "val Loss: 2.7570 Acc: 0.3262\n",
            "\n",
            "Epoch 6/10\n",
            "----------\n",
            "train Loss: 2.4266 Acc: 0.3926\n",
            "val Loss: 2.6428 Acc: 0.3506\n",
            "\n",
            "Epoch 7/10\n",
            "----------\n",
            "train Loss: 2.3769 Acc: 0.4035\n",
            "val Loss: 2.6302 Acc: 0.3548\n",
            "\n",
            "Epoch 8/10\n",
            "----------\n",
            "train Loss: 2.3469 Acc: 0.4079\n",
            "val Loss: 2.6192 Acc: 0.3546\n",
            "\n",
            "Epoch 9/10\n",
            "----------\n",
            "train Loss: 2.3197 Acc: 0.4146\n",
            "val Loss: 2.6099 Acc: 0.3604\n",
            "\n",
            "Epoch 10/10\n",
            "----------\n",
            "train Loss: 2.2940 Acc: 0.4203\n",
            "val Loss: 2.5988 Acc: 0.3626\n",
            "\n",
            "Training complete in 4m 11s\n",
            "Best val Acc: 0.362600\n"
          ]
        }
      ]
    },
    {
      "cell_type": "markdown",
      "source": [
        "# 6. Обучить нейросеть, используя Transfer Learning. "
      ],
      "metadata": {
        "id": "XyDb11gtZH6k"
      },
      "id": "XyDb11gtZH6k"
    },
    {
      "cell_type": "code",
      "source": [
        "model_updated = models.resnet50(pretrained=True)\n",
        "\n",
        "model_updated = model_updated.to(device)\n",
        "    \n",
        "num_features = model_updated.fc.in_features\n",
        "model_updated.fc = nn.Sequential(\n",
        "    torch.nn.Linear(num_features, 1024),\n",
        "    torch.nn.ReLU(),\n",
        "    torch.nn.Dropout(0.2),\n",
        "    torch.nn.Linear(1024, 100),\n",
        ")\n",
        "\n",
        "model_updated.fc = model_updated.fc.to(device)\n",
        "\n",
        "criterion = nn.CrossEntropyLoss()\n",
        "optimizer_sgd = optim.SGD(model_updated.parameters(), lr=0.0022, momentum=0.9, weight_decay=0.000001)\n",
        "exp_lr_scheduler = torch.optim.lr_scheduler.StepLR(optimizer_sgd, step_size=5, gamma=0.1)"
      ],
      "metadata": {
        "id": "7-5zWso-Xd2c"
      },
      "id": "7-5zWso-Xd2c",
      "execution_count": 64,
      "outputs": []
    },
    {
      "cell_type": "code",
      "source": [
        "model_updated = train_model(model_updated, dataloaders ,criterion, optimizer_sgd, exp_lr_scheduler, num_epochs=10)"
      ],
      "metadata": {
        "colab": {
          "base_uri": "https://localhost:8080/"
        },
        "id": "1BbOhGG1ZRv3",
        "outputId": "e092bdf3-78b2-4753-f678-5cf7fb1d5e70"
      },
      "id": "1BbOhGG1ZRv3",
      "execution_count": 65,
      "outputs": [
        {
          "output_type": "stream",
          "name": "stdout",
          "text": [
            "Epoch 1/10\n",
            "----------\n",
            "train Loss: 3.2230 Acc: 0.2376\n",
            "val Loss: 2.1010 Acc: 0.4382\n",
            "\n",
            "Epoch 2/10\n",
            "----------\n",
            "train Loss: 1.9348 Acc: 0.4730\n",
            "val Loss: 1.7445 Acc: 0.5196\n",
            "\n",
            "Epoch 3/10\n",
            "----------\n",
            "train Loss: 1.5522 Acc: 0.5653\n",
            "val Loss: 1.6417 Acc: 0.5503\n",
            "\n",
            "Epoch 4/10\n",
            "----------\n",
            "train Loss: 1.3120 Acc: 0.6275\n",
            "val Loss: 1.6363 Acc: 0.5579\n",
            "\n",
            "Epoch 5/10\n",
            "----------\n",
            "train Loss: 1.1177 Acc: 0.6793\n",
            "val Loss: 1.6204 Acc: 0.5697\n",
            "\n",
            "Epoch 6/10\n",
            "----------\n",
            "train Loss: 0.7868 Acc: 0.7701\n",
            "val Loss: 1.3927 Acc: 0.6240\n",
            "\n",
            "Epoch 7/10\n",
            "----------\n",
            "train Loss: 0.6688 Acc: 0.8020\n",
            "val Loss: 1.3941 Acc: 0.6296\n",
            "\n",
            "Epoch 8/10\n",
            "----------\n",
            "train Loss: 0.6005 Acc: 0.8210\n",
            "val Loss: 1.3850 Acc: 0.6311\n",
            "\n",
            "Epoch 9/10\n",
            "----------\n",
            "train Loss: 0.5556 Acc: 0.8364\n",
            "val Loss: 1.4020 Acc: 0.6264\n",
            "\n",
            "Epoch 10/10\n",
            "----------\n",
            "train Loss: 0.5086 Acc: 0.8454\n",
            "val Loss: 1.4014 Acc: 0.6316\n",
            "\n",
            "Training complete in 7m 9s\n",
            "Best val Acc: 0.631600\n"
          ]
        }
      ]
    },
    {
      "cell_type": "markdown",
      "source": [
        "# 7. Посчитать метрики качества финальной модели, сделать выводы.\n",
        "\n"
      ],
      "metadata": {
        "id": "luvegflMZhOP"
      },
      "id": "luvegflMZhOP"
    },
    {
      "cell_type": "code",
      "source": [
        "def all_accuracy(net, testloader):\n",
        "    correct = 0\n",
        "    total = 0\n",
        "    with torch.no_grad():\n",
        "        for data in testloader:\n",
        "            images, labels = data\n",
        "            images, labels = images.cuda(), labels.cuda()\n",
        "            outputs = net(images)\n",
        "\n",
        "            _, predicted = torch.max(outputs.data, 1)\n",
        "            total += labels.size(0)\n",
        "            correct += (predicted == labels).sum().item()\n",
        "\n",
        "    print('Accuracy of the network on the 10000 test images: {} %'.format(\n",
        "        100 * correct / total))"
      ],
      "metadata": {
        "id": "GLR4YPDoZljS"
      },
      "id": "GLR4YPDoZljS",
      "execution_count": 66,
      "outputs": []
    },
    {
      "cell_type": "code",
      "source": [
        "def class_accuracy(net, testloader):\n",
        "    class_correct = list(0. for i in range(100))\n",
        "    class_total = list(0. for i in range(100))\n",
        "    with torch.no_grad():\n",
        "        for data in testloader:\n",
        "            images, labels = data\n",
        "            images, labels = images.cuda(), labels.cuda()\n",
        "            outputs = net(images)\n",
        "            _, predicted = torch.max(outputs, 1)\n",
        "            c = (predicted == labels).squeeze()\n",
        "            for i in range(16):\n",
        "                label = labels[i]\n",
        "                class_correct[label] += c[i].item()\n",
        "                class_total[label] += 1\n",
        "\n",
        "\n",
        "    for i in range(100):\n",
        "        print('Accuracy of {} : {} %'.format(\n",
        "            i, 100 * class_correct[i] / class_total[i]))"
      ],
      "metadata": {
        "id": "AZG1OLGHZpT0"
      },
      "id": "AZG1OLGHZpT0",
      "execution_count": 67,
      "outputs": []
    },
    {
      "cell_type": "code",
      "source": [
        "all_accuracy(model, dataloaders['test'])"
      ],
      "metadata": {
        "colab": {
          "base_uri": "https://localhost:8080/"
        },
        "id": "1Qt-Wp75ZpM4",
        "outputId": "6765c314-4d23-4989-8f07-34af10c3ecf7"
      },
      "id": "1Qt-Wp75ZpM4",
      "execution_count": 68,
      "outputs": [
        {
          "output_type": "stream",
          "name": "stdout",
          "text": [
            "Accuracy of the network on the 10000 test images: 41.554 %\n"
          ]
        }
      ]
    },
    {
      "cell_type": "code",
      "source": [
        "all_accuracy(model_updated, dataloaders['test'])"
      ],
      "metadata": {
        "colab": {
          "base_uri": "https://localhost:8080/"
        },
        "id": "ZCXRHIBTZow4",
        "outputId": "b6d0a899-e8c6-43dc-9879-d979bb9f1fbc"
      },
      "id": "ZCXRHIBTZow4",
      "execution_count": 69,
      "outputs": [
        {
          "output_type": "stream",
          "name": "stdout",
          "text": [
            "Accuracy of the network on the 10000 test images: 85.418 %\n"
          ]
        }
      ]
    },
    {
      "cell_type": "code",
      "source": [
        "class_accuracy(model, dataloaders['test'])"
      ],
      "metadata": {
        "colab": {
          "base_uri": "https://localhost:8080/"
        },
        "id": "-KEuks8IZoPo",
        "outputId": "dad4f85a-4497-49d9-e6bb-8533b9396349"
      },
      "id": "-KEuks8IZoPo",
      "execution_count": 70,
      "outputs": [
        {
          "output_type": "stream",
          "name": "stdout",
          "text": [
            "Accuracy of 0 : 69.6 %\n",
            "Accuracy of 1 : 52.892561983471076 %\n",
            "Accuracy of 2 : 24.576271186440678 %\n",
            "Accuracy of 3 : 23.015873015873016 %\n",
            "Accuracy of 4 : 21.374045801526716 %\n",
            "Accuracy of 5 : 43.90243902439025 %\n",
            "Accuracy of 6 : 42.4 %\n",
            "Accuracy of 7 : 48.333333333333336 %\n",
            "Accuracy of 8 : 54.01459854014598 %\n",
            "Accuracy of 9 : 50.81967213114754 %\n",
            "Accuracy of 10 : 21.774193548387096 %\n",
            "Accuracy of 11 : 23.68421052631579 %\n",
            "Accuracy of 12 : 41.86046511627907 %\n",
            "Accuracy of 13 : 38.23529411764706 %\n",
            "Accuracy of 14 : 38.983050847457626 %\n",
            "Accuracy of 15 : 26.428571428571427 %\n",
            "Accuracy of 16 : 30.89430894308943 %\n",
            "Accuracy of 17 : 64.28571428571429 %\n",
            "Accuracy of 18 : 34.4 %\n",
            "Accuracy of 19 : 39.39393939393939 %\n",
            "Accuracy of 20 : 67.76859504132231 %\n",
            "Accuracy of 21 : 58.064516129032256 %\n",
            "Accuracy of 22 : 29.508196721311474 %\n",
            "Accuracy of 23 : 56.91056910569106 %\n",
            "Accuracy of 24 : 59.701492537313435 %\n",
            "Accuracy of 25 : 22.580645161290324 %\n",
            "Accuracy of 26 : 36.231884057971016 %\n",
            "Accuracy of 27 : 29.62962962962963 %\n",
            "Accuracy of 28 : 51.06382978723404 %\n",
            "Accuracy of 29 : 41.44144144144144 %\n",
            "Accuracy of 30 : 40.0 %\n",
            "Accuracy of 31 : 44.354838709677416 %\n",
            "Accuracy of 32 : 19.327731092436974 %\n",
            "Accuracy of 33 : 44.3609022556391 %\n",
            "Accuracy of 34 : 20.90909090909091 %\n",
            "Accuracy of 35 : 27.06766917293233 %\n",
            "Accuracy of 36 : 45.16129032258065 %\n",
            "Accuracy of 37 : 33.064516129032256 %\n",
            "Accuracy of 38 : 24.299065420560748 %\n",
            "Accuracy of 39 : 44.34782608695652 %\n",
            "Accuracy of 40 : 41.1764705882353 %\n",
            "Accuracy of 41 : 66.18705035971223 %\n",
            "Accuracy of 42 : 54.61538461538461 %\n",
            "Accuracy of 43 : 45.08196721311475 %\n",
            "Accuracy of 44 : 16.93548387096774 %\n",
            "Accuracy of 45 : 34.146341463414636 %\n",
            "Accuracy of 46 : 30.075187969924812 %\n",
            "Accuracy of 47 : 51.75438596491228 %\n",
            "Accuracy of 48 : 62.5 %\n",
            "Accuracy of 49 : 55.03875968992248 %\n",
            "Accuracy of 50 : 20.32520325203252 %\n",
            "Accuracy of 51 : 42.25352112676056 %\n",
            "Accuracy of 52 : 63.41463414634146 %\n",
            "Accuracy of 53 : 80.99173553719008 %\n",
            "Accuracy of 54 : 49.27536231884058 %\n",
            "Accuracy of 55 : 4.761904761904762 %\n",
            "Accuracy of 56 : 54.78260869565217 %\n",
            "Accuracy of 57 : 42.4 %\n",
            "Accuracy of 58 : 54.91803278688525 %\n",
            "Accuracy of 59 : 30.508474576271187 %\n",
            "Accuracy of 60 : 69.10569105691057 %\n",
            "Accuracy of 61 : 50.4 %\n",
            "Accuracy of 62 : 53.6 %\n",
            "Accuracy of 63 : 39.37007874015748 %\n",
            "Accuracy of 64 : 27.559055118110237 %\n",
            "Accuracy of 65 : 19.25925925925926 %\n",
            "Accuracy of 66 : 27.272727272727273 %\n",
            "Accuracy of 67 : 36.69064748201439 %\n",
            "Accuracy of 68 : 72.88135593220339 %\n",
            "Accuracy of 69 : 56.83453237410072 %\n",
            "Accuracy of 70 : 43.58974358974359 %\n",
            "Accuracy of 71 : 67.21311475409836 %\n",
            "Accuracy of 72 : 9.322033898305085 %\n",
            "Accuracy of 73 : 41.86046511627907 %\n",
            "Accuracy of 74 : 35.0 %\n",
            "Accuracy of 75 : 65.6 %\n",
            "Accuracy of 76 : 60.55045871559633 %\n",
            "Accuracy of 77 : 16.417910447761194 %\n",
            "Accuracy of 78 : 17.5 %\n",
            "Accuracy of 79 : 49.532710280373834 %\n",
            "Accuracy of 80 : 18.69918699186992 %\n",
            "Accuracy of 81 : 41.666666666666664 %\n",
            "Accuracy of 82 : 81.34328358208955 %\n",
            "Accuracy of 83 : 35.43307086614173 %\n",
            "Accuracy of 84 : 33.333333333333336 %\n",
            "Accuracy of 85 : 56.779661016949156 %\n",
            "Accuracy of 86 : 40.14598540145985 %\n",
            "Accuracy of 87 : 50.0 %\n",
            "Accuracy of 88 : 48.0 %\n",
            "Accuracy of 89 : 40.32258064516129 %\n",
            "Accuracy of 90 : 28.571428571428573 %\n",
            "Accuracy of 91 : 53.73134328358209 %\n",
            "Accuracy of 92 : 25.0 %\n",
            "Accuracy of 93 : 27.06766917293233 %\n",
            "Accuracy of 94 : 63.04347826086956 %\n",
            "Accuracy of 95 : 52.54237288135593 %\n",
            "Accuracy of 96 : 41.726618705035975 %\n",
            "Accuracy of 97 : 49.12280701754386 %\n",
            "Accuracy of 98 : 25.714285714285715 %\n",
            "Accuracy of 99 : 29.921259842519685 %\n"
          ]
        }
      ]
    },
    {
      "cell_type": "code",
      "source": [
        "class_accuracy(model_updated, dataloaders['test'])"
      ],
      "metadata": {
        "colab": {
          "base_uri": "https://localhost:8080/"
        },
        "id": "2gtfB9XKZoKg",
        "outputId": "b06dd478-091e-4bb1-8616-a627cb1dbceb"
      },
      "id": "2gtfB9XKZoKg",
      "execution_count": 71,
      "outputs": [
        {
          "output_type": "stream",
          "name": "stdout",
          "text": [
            "Accuracy of 0 : 96.06299212598425 %\n",
            "Accuracy of 1 : 92.0 %\n",
            "Accuracy of 2 : 71.55963302752293 %\n",
            "Accuracy of 3 : 76.52173913043478 %\n",
            "Accuracy of 4 : 77.77777777777777 %\n",
            "Accuracy of 5 : 90.22556390977444 %\n",
            "Accuracy of 6 : 86.95652173913044 %\n",
            "Accuracy of 7 : 83.82352941176471 %\n",
            "Accuracy of 8 : 94.21487603305785 %\n",
            "Accuracy of 9 : 89.84375 %\n",
            "Accuracy of 10 : 86.92307692307692 %\n",
            "Accuracy of 11 : 70.53571428571429 %\n",
            "Accuracy of 12 : 81.14754098360656 %\n",
            "Accuracy of 13 : 79.83193277310924 %\n",
            "Accuracy of 14 : 92.3076923076923 %\n",
            "Accuracy of 15 : 85.03937007874016 %\n",
            "Accuracy of 16 : 90.65420560747664 %\n",
            "Accuracy of 17 : 93.02325581395348 %\n",
            "Accuracy of 18 : 89.47368421052632 %\n",
            "Accuracy of 19 : 78.03030303030303 %\n",
            "Accuracy of 20 : 96.09375 %\n",
            "Accuracy of 21 : 94.24460431654676 %\n",
            "Accuracy of 22 : 89.51612903225806 %\n",
            "Accuracy of 23 : 90.0 %\n",
            "Accuracy of 24 : 91.81818181818181 %\n",
            "Accuracy of 25 : 85.61643835616438 %\n",
            "Accuracy of 26 : 77.57009345794393 %\n",
            "Accuracy of 27 : 83.45323741007195 %\n",
            "Accuracy of 28 : 93.61702127659575 %\n",
            "Accuracy of 29 : 82.70676691729324 %\n",
            "Accuracy of 30 : 86.04651162790698 %\n",
            "Accuracy of 31 : 91.53846153846153 %\n",
            "Accuracy of 32 : 83.65384615384616 %\n",
            "Accuracy of 33 : 87.70491803278688 %\n",
            "Accuracy of 34 : 82.92682926829268 %\n",
            "Accuracy of 35 : 70.58823529411765 %\n",
            "Accuracy of 36 : 89.31297709923665 %\n",
            "Accuracy of 37 : 86.20689655172414 %\n",
            "Accuracy of 38 : 70.99236641221374 %\n",
            "Accuracy of 39 : 97.91666666666667 %\n",
            "Accuracy of 40 : 88.18897637795276 %\n",
            "Accuracy of 41 : 92.06349206349206 %\n",
            "Accuracy of 42 : 85.71428571428571 %\n",
            "Accuracy of 43 : 91.07142857142857 %\n",
            "Accuracy of 44 : 76.97841726618705 %\n",
            "Accuracy of 45 : 80.62015503875969 %\n",
            "Accuracy of 46 : 79.36507936507937 %\n",
            "Accuracy of 47 : 77.37226277372262 %\n",
            "Accuracy of 48 : 94.77611940298507 %\n",
            "Accuracy of 49 : 94.16666666666667 %\n",
            "Accuracy of 50 : 62.5 %\n",
            "Accuracy of 51 : 88.88888888888889 %\n",
            "Accuracy of 52 : 87.5912408759124 %\n",
            "Accuracy of 53 : 97.72727272727273 %\n",
            "Accuracy of 54 : 92.5 %\n",
            "Accuracy of 55 : 59.523809523809526 %\n",
            "Accuracy of 56 : 96.69421487603306 %\n",
            "Accuracy of 57 : 90.625 %\n",
            "Accuracy of 58 : 94.39252336448598 %\n",
            "Accuracy of 59 : 85.59322033898304 %\n",
            "Accuracy of 60 : 86.36363636363636 %\n",
            "Accuracy of 61 : 93.38842975206612 %\n",
            "Accuracy of 62 : 85.1063829787234 %\n",
            "Accuracy of 63 : 84.61538461538461 %\n",
            "Accuracy of 64 : 77.03703703703704 %\n",
            "Accuracy of 65 : 71.875 %\n",
            "Accuracy of 66 : 74.19354838709677 %\n",
            "Accuracy of 67 : 86.20689655172414 %\n",
            "Accuracy of 68 : 98.33333333333333 %\n",
            "Accuracy of 69 : 92.85714285714286 %\n",
            "Accuracy of 70 : 88.88888888888889 %\n",
            "Accuracy of 71 : 95.04132231404958 %\n",
            "Accuracy of 72 : 60.0 %\n",
            "Accuracy of 73 : 80.35714285714286 %\n",
            "Accuracy of 74 : 67.5925925925926 %\n",
            "Accuracy of 75 : 95.41284403669725 %\n",
            "Accuracy of 76 : 96.26865671641791 %\n",
            "Accuracy of 77 : 86.91588785046729 %\n",
            "Accuracy of 78 : 84.16666666666667 %\n",
            "Accuracy of 79 : 82.97872340425532 %\n",
            "Accuracy of 80 : 75.2 %\n",
            "Accuracy of 81 : 88.81118881118881 %\n",
            "Accuracy of 82 : 91.66666666666667 %\n",
            "Accuracy of 83 : 89.92805755395683 %\n",
            "Accuracy of 84 : 85.15625 %\n",
            "Accuracy of 85 : 93.7007874015748 %\n",
            "Accuracy of 86 : 93.54838709677419 %\n",
            "Accuracy of 87 : 91.80327868852459 %\n",
            "Accuracy of 88 : 87.85046728971963 %\n",
            "Accuracy of 89 : 86.25954198473282 %\n",
            "Accuracy of 90 : 82.6086956521739 %\n",
            "Accuracy of 91 : 88.0 %\n",
            "Accuracy of 92 : 76.33587786259542 %\n",
            "Accuracy of 93 : 79.5774647887324 %\n",
            "Accuracy of 94 : 97.34513274336283 %\n",
            "Accuracy of 95 : 88.88888888888889 %\n",
            "Accuracy of 96 : 78.67647058823529 %\n",
            "Accuracy of 97 : 91.40625 %\n",
            "Accuracy of 98 : 72.5 %\n",
            "Accuracy of 99 : 91.93548387096774 %\n"
          ]
        }
      ]
    },
    {
      "cell_type": "markdown",
      "source": [
        "###### Таким образом, точность нейронной сети на 10000 тестовых изображениях на основе transfer learning намного выше, чем на основе архитектуры собственной нейронной сети."
      ],
      "metadata": {
        "id": "LIwh8tjVeSbB"
      },
      "id": "LIwh8tjVeSbB"
    },
    {
      "cell_type": "code",
      "source": [],
      "metadata": {
        "id": "OHBzGECJdlZ3"
      },
      "id": "OHBzGECJdlZ3",
      "execution_count": null,
      "outputs": []
    }
  ],
  "metadata": {
    "kernelspec": {
      "display_name": "Python 3 (ipykernel)",
      "language": "python",
      "name": "python3"
    },
    "language_info": {
      "codemirror_mode": {
        "name": "ipython",
        "version": 3
      },
      "file_extension": ".py",
      "mimetype": "text/x-python",
      "name": "python",
      "nbconvert_exporter": "python",
      "pygments_lexer": "ipython3",
      "version": "3.9.13"
    },
    "colab": {
      "provenance": [],
      "gpuType": "T4"
    },
    "accelerator": "GPU",
    "gpuClass": "standard"
  },
  "nbformat": 4,
  "nbformat_minor": 5
}